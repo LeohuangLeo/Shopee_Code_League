{
 "cells": [
  {
   "cell_type": "code",
   "execution_count": 1,
   "metadata": {},
   "outputs": [],
   "source": [
    "import pandas as pd\n",
    "import numpy as np"
   ]
  },
  {
   "cell_type": "code",
   "execution_count": 51,
   "metadata": {
    "scrolled": true
   },
   "outputs": [
    {
     "data": {
      "text/html": [
       "<div>\n",
       "<style scoped>\n",
       "    .dataframe tbody tr th:only-of-type {\n",
       "        vertical-align: middle;\n",
       "    }\n",
       "\n",
       "    .dataframe tbody tr th {\n",
       "        vertical-align: top;\n",
       "    }\n",
       "\n",
       "    .dataframe thead th {\n",
       "        text-align: right;\n",
       "    }\n",
       "</style>\n",
       "<table border=\"1\" class=\"dataframe\">\n",
       "  <thead>\n",
       "    <tr style=\"text-align: right;\">\n",
       "      <th></th>\n",
       "      <th>orderid</th>\n",
       "      <th>shopid</th>\n",
       "      <th>userid</th>\n",
       "      <th>event_time</th>\n",
       "    </tr>\n",
       "  </thead>\n",
       "  <tbody>\n",
       "    <tr>\n",
       "      <th>0</th>\n",
       "      <td>31076582227611</td>\n",
       "      <td>93950878</td>\n",
       "      <td>30530270</td>\n",
       "      <td>2019-12-27 00:23:03</td>\n",
       "    </tr>\n",
       "    <tr>\n",
       "      <th>1</th>\n",
       "      <td>31118059853484</td>\n",
       "      <td>156423439</td>\n",
       "      <td>46057927</td>\n",
       "      <td>2019-12-27 11:54:20</td>\n",
       "    </tr>\n",
       "    <tr>\n",
       "      <th>2</th>\n",
       "      <td>31123355095755</td>\n",
       "      <td>173699291</td>\n",
       "      <td>67341739</td>\n",
       "      <td>2019-12-27 13:22:35</td>\n",
       "    </tr>\n",
       "    <tr>\n",
       "      <th>3</th>\n",
       "      <td>31122059872723</td>\n",
       "      <td>63674025</td>\n",
       "      <td>149380322</td>\n",
       "      <td>2019-12-27 13:01:00</td>\n",
       "    </tr>\n",
       "    <tr>\n",
       "      <th>4</th>\n",
       "      <td>31117075665123</td>\n",
       "      <td>127249066</td>\n",
       "      <td>149493217</td>\n",
       "      <td>2019-12-27 11:37:55</td>\n",
       "    </tr>\n",
       "    <tr>\n",
       "      <th>...</th>\n",
       "      <td>...</td>\n",
       "      <td>...</td>\n",
       "      <td>...</td>\n",
       "      <td>...</td>\n",
       "    </tr>\n",
       "    <tr>\n",
       "      <th>222745</th>\n",
       "      <td>31245479170194</td>\n",
       "      <td>110868129</td>\n",
       "      <td>193218997</td>\n",
       "      <td>2019-12-28 23:17:59</td>\n",
       "    </tr>\n",
       "    <tr>\n",
       "      <th>222746</th>\n",
       "      <td>31230440360374</td>\n",
       "      <td>91639906</td>\n",
       "      <td>3541807</td>\n",
       "      <td>2019-12-28 19:07:20</td>\n",
       "    </tr>\n",
       "    <tr>\n",
       "      <th>222747</th>\n",
       "      <td>31191471145838</td>\n",
       "      <td>29391773</td>\n",
       "      <td>135908070</td>\n",
       "      <td>2019-12-28 08:17:52</td>\n",
       "    </tr>\n",
       "    <tr>\n",
       "      <th>222748</th>\n",
       "      <td>31198471732255</td>\n",
       "      <td>61556313</td>\n",
       "      <td>27306783</td>\n",
       "      <td>2019-12-28 10:14:31</td>\n",
       "    </tr>\n",
       "    <tr>\n",
       "      <th>222749</th>\n",
       "      <td>31164356713822</td>\n",
       "      <td>147941492</td>\n",
       "      <td>127484153</td>\n",
       "      <td>2019-12-28 00:45:56</td>\n",
       "    </tr>\n",
       "  </tbody>\n",
       "</table>\n",
       "<p>222750 rows × 4 columns</p>\n",
       "</div>"
      ],
      "text/plain": [
       "               orderid     shopid     userid           event_time\n",
       "0       31076582227611   93950878   30530270  2019-12-27 00:23:03\n",
       "1       31118059853484  156423439   46057927  2019-12-27 11:54:20\n",
       "2       31123355095755  173699291   67341739  2019-12-27 13:22:35\n",
       "3       31122059872723   63674025  149380322  2019-12-27 13:01:00\n",
       "4       31117075665123  127249066  149493217  2019-12-27 11:37:55\n",
       "...                ...        ...        ...                  ...\n",
       "222745  31245479170194  110868129  193218997  2019-12-28 23:17:59\n",
       "222746  31230440360374   91639906    3541807  2019-12-28 19:07:20\n",
       "222747  31191471145838   29391773  135908070  2019-12-28 08:17:52\n",
       "222748  31198471732255   61556313   27306783  2019-12-28 10:14:31\n",
       "222749  31164356713822  147941492  127484153  2019-12-28 00:45:56\n",
       "\n",
       "[222750 rows x 4 columns]"
      ]
     },
     "execution_count": 51,
     "metadata": {},
     "output_type": "execute_result"
    }
   ],
   "source": [
    "df"
   ]
  },
  {
   "cell_type": "code",
   "execution_count": 138,
   "metadata": {},
   "outputs": [],
   "source": [
    "df = pd.read_csv('order_brush_order_revise.csv')"
   ]
  },
  {
   "cell_type": "code",
   "execution_count": 145,
   "metadata": {},
   "outputs": [
    {
     "data": {
      "text/html": [
       "<div>\n",
       "<style scoped>\n",
       "    .dataframe tbody tr th:only-of-type {\n",
       "        vertical-align: middle;\n",
       "    }\n",
       "\n",
       "    .dataframe tbody tr th {\n",
       "        vertical-align: top;\n",
       "    }\n",
       "\n",
       "    .dataframe thead th {\n",
       "        text-align: right;\n",
       "    }\n",
       "</style>\n",
       "<table border=\"1\" class=\"dataframe\">\n",
       "  <thead>\n",
       "    <tr style=\"text-align: right;\">\n",
       "      <th></th>\n",
       "      <th>orderid</th>\n",
       "      <th>shopid</th>\n",
       "      <th>userid</th>\n",
       "      <th>event_time</th>\n",
       "    </tr>\n",
       "  </thead>\n",
       "  <tbody>\n",
       "    <tr>\n",
       "      <th>59</th>\n",
       "      <td>31086409141107</td>\n",
       "      <td>10009</td>\n",
       "      <td>196962305</td>\n",
       "      <td>99.100000</td>\n",
       "    </tr>\n",
       "    <tr>\n",
       "      <th>9055</th>\n",
       "      <td>31254979546679</td>\n",
       "      <td>10051</td>\n",
       "      <td>48600461</td>\n",
       "      <td>49.933333</td>\n",
       "    </tr>\n",
       "    <tr>\n",
       "      <th>76187</th>\n",
       "      <td>31144571933461</td>\n",
       "      <td>10051</td>\n",
       "      <td>2854032</td>\n",
       "      <td>115.266667</td>\n",
       "    </tr>\n",
       "    <tr>\n",
       "      <th>188513</th>\n",
       "      <td>31195675919209</td>\n",
       "      <td>10061</td>\n",
       "      <td>168750452</td>\n",
       "      <td>33.450000</td>\n",
       "    </tr>\n",
       "    <tr>\n",
       "      <th>174620</th>\n",
       "      <td>31205132327893</td>\n",
       "      <td>10061</td>\n",
       "      <td>194819216</td>\n",
       "      <td>36.083333</td>\n",
       "    </tr>\n",
       "  </tbody>\n",
       "</table>\n",
       "</div>"
      ],
      "text/plain": [
       "               orderid  shopid     userid  event_time\n",
       "59      31086409141107   10009  196962305   99.100000\n",
       "9055    31254979546679   10051   48600461   49.933333\n",
       "76187   31144571933461   10051    2854032  115.266667\n",
       "188513  31195675919209   10061  168750452   33.450000\n",
       "174620  31205132327893   10061  194819216   36.083333"
      ]
     },
     "execution_count": 145,
     "metadata": {},
     "output_type": "execute_result"
    }
   ],
   "source": [
    "df = df.sort_values(by=['shopid', 'event_time'])\n",
    "df.head()"
   ]
  },
  {
   "cell_type": "code",
   "execution_count": 189,
   "metadata": {},
   "outputs": [
    {
     "data": {
      "text/plain": [
       "1"
      ]
     },
     "execution_count": 189,
     "metadata": {},
     "output_type": "execute_result"
    }
   ],
   "source": [
    "category = list(pd.unique(df['shopid']))\n",
    "len(category)\n",
    "len(group.get_group(category[i]))"
   ]
  },
  {
   "cell_type": "code",
   "execution_count": 173,
   "metadata": {},
   "outputs": [],
   "source": [
    "group = df.groupby('shopid')\n"
   ]
  },
  {
   "cell_type": "code",
   "execution_count": 187,
   "metadata": {},
   "outputs": [],
   "source": [
    "dic = {}\n",
    "pred = []\n",
    "for i in range(len(category)):\n",
    "    if len(group.get_group(category[i])) <= 3:\n",
    "        dic[category[i]] = 0\n",
    "    else:\n",
    "        pred.append(group.get_group(category[i]))"
   ]
  },
  {
   "cell_type": "code",
   "execution_count": 196,
   "metadata": {},
   "outputs": [],
   "source": [
    "a = pred[0].sort_values(by=['event_time'])"
   ]
  },
  {
   "cell_type": "code",
   "execution_count": 204,
   "metadata": {},
   "outputs": [
    {
     "data": {
      "text/plain": [
       "33.45"
      ]
     },
     "execution_count": 204,
     "metadata": {},
     "output_type": "execute_result"
    }
   ],
   "source": [
    "a['event_time'].iloc[0]\n"
   ]
  },
  {
   "cell_type": "code",
   "execution_count": null,
   "metadata": {},
   "outputs": [],
   "source": [
    "for k in range(len(pred)):\n",
    "    cat1 = pred[k].sort_values(by=['event_time'])\n",
    "\n",
    "    for i in range(1, len(cat1)-1):\n",
    "        start = cat1['event_time'].iloc[i] \n",
    "        while cat1['event_time'].iloc[i+1] - start < 1:\n",
    "            continue\n",
    "        record = dict(cat1['event_time'].iloc[:i].value_counts())\n",
    "        dic[cat1['shopid'].values[0]] = []\n",
    "        for j in record.keys():\n",
    "            if len(cat1) / int(record[j]) >= 3:\n",
    "                dic[cat1['shopid'].values[0]].append(j)\n",
    "        print(dic)\n",
    "    "
   ]
  },
  {
   "cell_type": "code",
   "execution_count": null,
   "metadata": {},
   "outputs": [],
   "source": []
  },
  {
   "cell_type": "code",
   "execution_count": null,
   "metadata": {},
   "outputs": [],
   "source": []
  },
  {
   "cell_type": "code",
   "execution_count": 157,
   "metadata": {},
   "outputs": [
    {
     "name": "stdout",
     "output_type": "stream",
     "text": [
      "<class 'int'> 196962305\n"
     ]
    }
   ],
   "source": [
    "s = dict(cat1.iloc[:5]['userid'].value_counts())\n",
    "for j in s.keys():\n",
    "    print(type(int(s[j])), j) "
   ]
  },
  {
   "cell_type": "code",
   "execution_count": 162,
   "metadata": {},
   "outputs": [
    {
     "data": {
      "text/html": [
       "<div>\n",
       "<style scoped>\n",
       "    .dataframe tbody tr th:only-of-type {\n",
       "        vertical-align: middle;\n",
       "    }\n",
       "\n",
       "    .dataframe tbody tr th {\n",
       "        vertical-align: top;\n",
       "    }\n",
       "\n",
       "    .dataframe thead th {\n",
       "        text-align: right;\n",
       "    }\n",
       "</style>\n",
       "<table border=\"1\" class=\"dataframe\">\n",
       "  <thead>\n",
       "    <tr style=\"text-align: right;\">\n",
       "      <th></th>\n",
       "      <th>orderid</th>\n",
       "      <th>shopid</th>\n",
       "      <th>userid</th>\n",
       "      <th>event_time</th>\n",
       "    </tr>\n",
       "  </thead>\n",
       "  <tbody>\n",
       "    <tr>\n",
       "      <th>59</th>\n",
       "      <td>31086409141107</td>\n",
       "      <td>10009</td>\n",
       "      <td>196962305</td>\n",
       "      <td>99.1</td>\n",
       "    </tr>\n",
       "  </tbody>\n",
       "</table>\n",
       "</div>"
      ],
      "text/plain": [
       "           orderid  shopid     userid  event_time\n",
       "59  31086409141107   10009  196962305        99.1"
      ]
     },
     "execution_count": 162,
     "metadata": {},
     "output_type": "execute_result"
    }
   ],
   "source": [
    "dic = {}\n",
    "category1 = category[0]\n",
    "cat1 = group.get_group(category1)\n",
    "cat1 = cat1.sort_values(by=['event_time'])\n",
    "cat1"
   ]
  },
  {
   "cell_type": "code",
   "execution_count": 159,
   "metadata": {},
   "outputs": [
    {
     "data": {
      "text/plain": [
       "numpy.int64"
      ]
     },
     "execution_count": 159,
     "metadata": {},
     "output_type": "execute_result"
    }
   ],
   "source": [
    "type(cat1['shopid'].values[0])"
   ]
  },
  {
   "cell_type": "code",
   "execution_count": 160,
   "metadata": {},
   "outputs": [
    {
     "data": {
      "text/plain": [
       "{}"
      ]
     },
     "execution_count": 160,
     "metadata": {},
     "output_type": "execute_result"
    }
   ],
   "source": [
    "dic"
   ]
  },
  {
   "cell_type": "code",
   "execution_count": null,
   "metadata": {},
   "outputs": [],
   "source": []
  }
 ],
 "metadata": {
  "kernelspec": {
   "display_name": "Pytorch",
   "language": "python",
   "name": "pytorch"
  },
  "language_info": {
   "codemirror_mode": {
    "name": "ipython",
    "version": 3
   },
   "file_extension": ".py",
   "mimetype": "text/x-python",
   "name": "python",
   "nbconvert_exporter": "python",
   "pygments_lexer": "ipython3",
   "version": "3.7.5"
  }
 },
 "nbformat": 4,
 "nbformat_minor": 2
}
